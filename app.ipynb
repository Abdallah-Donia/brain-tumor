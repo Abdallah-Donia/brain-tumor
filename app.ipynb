{
 "cells": [
  {
   "cell_type": "code",
   "execution_count": null,
   "id": "14083343",
   "metadata": {},
   "outputs": [],
   "source": [
    "pip install"
   ]
  },
  {
   "cell_type": "code",
   "execution_count": 1,
   "id": "71412f97",
   "metadata": {},
   "outputs": [
    {
     "name": "stdout",
     "output_type": "stream",
     "text": [
      "WARNING:tensorflow:From C:\\Users\\ahmed\\anaconda3\\lib\\site-packages\\keras\\src\\losses.py:2976: The name tf.losses.sparse_softmax_cross_entropy is deprecated. Please use tf.compat.v1.losses.sparse_softmax_cross_entropy instead.\n",
      "\n",
      "TensorFlow version: 2.15.0\n"
     ]
    }
   ],
   "source": [
    "\n"
   ]
  },
  {
   "cell_type": "code",
   "execution_count": 2,
   "id": "7e289f1d",
   "metadata": {},
   "outputs": [],
   "source": [
    "# Define a custom loss function for Vgg19 UNet model\n",
    "\n",
    "epsilon = 1e-5\n",
    "smooth = 1\n",
    "\n",
    "def tversky(y_true, y_pred):\n",
    "    y_true_pos = K.cast(K.flatten(y_true), dtype='float32')\n",
    "    y_pred_pos = K.cast(K.flatten(y_pred), dtype='float32')\n",
    "    true_pos = K.sum(y_true_pos * y_pred_pos)\n",
    "    false_neg = K.sum(y_true_pos * (1-y_pred_pos))\n",
    "    false_pos = K.sum((1-y_true_pos)*y_pred_pos)\n",
    "    alpha = 0.7\n",
    "    return (true_pos + smooth)/(true_pos + alpha*false_neg + (1-alpha)*false_pos + smooth)\n",
    "\n",
    "def focal_tversky(y_true, y_pred):\n",
    "    y_true = tf.cast(y_true, tf.float32)\n",
    "    y_pred = tf.cast(y_pred, tf.float32)\n",
    "\n",
    "    pt_1 = tversky(y_true, y_pred)\n",
    "    gamma = 0.75\n",
    "    return K.pow((1-pt_1), gamma)\n",
    "\n",
    "\n",
    "def tversky_loss(y_true, y_pred):\n",
    "    return 1 - tversky(y_true,y_pred)"
   ]
  },
  {
   "cell_type": "code",
   "execution_count": 3,
   "id": "f7604d41",
   "metadata": {},
   "outputs": [],
   "source": [
    "def display_images_with_masks(df):\n",
    "    for i, row in df.iterrows():\n",
    "        # Read the image\n",
    "        img = io.imread(row['image_path'])\n",
    "\n",
    "        # Plot the original image\n",
    "        plt.figure(figsize=(15, 5))\n",
    "        plt.subplot(1, 3, 1)\n",
    "        plt.imshow(img)\n",
    "        plt.title('Original MRI')\n",
    "\n",
    "        # Plot the predicted mask\n",
    "        plt.subplot(1, 3, 2)\n",
    "        if row['has_mask'] == 1:\n",
    "            # If there is a mask, display it\n",
    "            if not isinstance(row['predicted_mask'], str) and row['predicted_mask'] is not None:\n",
    "                mask = np.array(row['predicted_mask']).squeeze().round()\n",
    "                mask_resized = cv2.resize(mask, (img.shape[1], img.shape[0]))  # Resize mask to match image dimensions\n",
    "                plt.imshow(mask_resized, cmap='gray')\n",
    "                plt.title('Predicted Mask')\n",
    "            else:\n",
    "                plt.imshow(np.zeros_like(img), cmap='gray')\n",
    "                plt.title('No Mask Predicted')\n",
    "        else:\n",
    "            plt.imshow(np.zeros_like(img), cmap='gray')\n",
    "            plt.title('No Tumor')\n",
    "\n",
    "        # Overlay the original MRI with the predicted mask\n",
    "        plt.subplot(1, 3, 3)\n",
    "        if row['has_mask'] == 1:\n",
    "            img_with_mask = np.copy(img)\n",
    "            if not isinstance(row['predicted_mask'], str) and row['predicted_mask'] is not None:\n",
    "                mask = np.array(row['predicted_mask']).squeeze().round()\n",
    "                mask_resized = cv2.resize(mask, (img.shape[1], img.shape[0]))  # Resize mask to match image dimensions\n",
    "                img_with_mask[mask_resized == 1] = [255, 0, 0]  # Overlay red color where mask is predicted\n",
    "            plt.imshow(img_with_mask)\n",
    "            plt.title('MRI with Predicted Mask')\n",
    "        else:\n",
    "            plt.imshow(img)\n",
    "            plt.title('No Tumor')"
   ]
  },
  {
   "cell_type": "code",
   "execution_count": null,
   "id": "2c195b30",
   "metadata": {
    "scrolled": false
   },
   "outputs": [
    {
     "name": "stdout",
     "output_type": "stream",
     "text": [
      "WARNING:tensorflow:From C:\\Users\\ahmed\\anaconda3\\lib\\site-packages\\keras\\src\\backend.py:1398: The name tf.executing_eagerly_outside_functions is deprecated. Please use tf.compat.v1.executing_eagerly_outside_functions instead.\n",
      "\n",
      "WARNING:tensorflow:From C:\\Users\\ahmed\\anaconda3\\lib\\site-packages\\keras\\src\\layers\\pooling\\max_pooling2d.py:161: The name tf.nn.max_pool is deprecated. Please use tf.nn.max_pool2d instead.\n",
      "\n",
      " * Serving Flask app '__main__'\n",
      " * Debug mode: off\n"
     ]
    },
    {
     "name": "stderr",
     "output_type": "stream",
     "text": [
      "WARNING: This is a development server. Do not use it in a production deployment. Use a production WSGI server instead.\n",
      " * Running on http://127.0.0.1:5000\n",
      "Press CTRL+C to quit\n",
      "127.0.0.1 - - [23/May/2024 19:03:57] \"GET / HTTP/1.1\" 200 -\n",
      "127.0.0.1 - - [23/May/2024 19:03:57] \"GET / HTTP/1.1\" 200 -\n",
      "127.0.0.1 - - [23/May/2024 19:03:57] \"GET /favicon.ico HTTP/1.1\" 404 -\n"
     ]
    },
    {
     "name": "stdout",
     "output_type": "stream",
     "text": [
      "1/1 [==============================] - 1s 533ms/step\n"
     ]
    },
    {
     "name": "stderr",
     "output_type": "stream",
     "text": [
      "127.0.0.1 - - [23/May/2024 19:04:02] \"POST /predict HTTP/1.1\" 200 -\n"
     ]
    },
    {
     "name": "stdout",
     "output_type": "stream",
     "text": [
      "1/1 [==============================] - 0s 227ms/step\n"
     ]
    },
    {
     "name": "stderr",
     "output_type": "stream",
     "text": [
      "127.0.0.1 - - [23/May/2024 19:04:04] \"POST /segment HTTP/1.1\" 200 -\n",
      "127.0.0.1 - - [23/May/2024 19:04:25] \"GET / HTTP/1.1\" 200 -\n",
      "127.0.0.1 - - [23/May/2024 19:04:25] \"GET / HTTP/1.1\" 200 -\n",
      "127.0.0.1 - - [23/May/2024 19:04:25] \"GET /favicon.ico HTTP/1.1\" 404 -\n"
     ]
    },
    {
     "name": "stdout",
     "output_type": "stream",
     "text": [
      "1/1 [==============================] - 0s 214ms/step\n"
     ]
    },
    {
     "name": "stderr",
     "output_type": "stream",
     "text": [
      "127.0.0.1 - - [23/May/2024 19:04:29] \"POST /predict HTTP/1.1\" 200 -\n"
     ]
    },
    {
     "name": "stdout",
     "output_type": "stream",
     "text": [
      "1/1 [==============================] - 0s 212ms/step\n"
     ]
    },
    {
     "name": "stderr",
     "output_type": "stream",
     "text": [
      "127.0.0.1 - - [23/May/2024 19:04:30] \"POST /segment HTTP/1.1\" 200 -\n"
     ]
    },
    {
     "name": "stdout",
     "output_type": "stream",
     "text": [
      "1/1 [==============================] - 0s 276ms/step\n"
     ]
    },
    {
     "name": "stderr",
     "output_type": "stream",
     "text": [
      "127.0.0.1 - - [23/May/2024 19:05:47] \"POST /predict HTTP/1.1\" 200 -\n"
     ]
    },
    {
     "name": "stdout",
     "output_type": "stream",
     "text": [
      "1/1 [==============================] - 0s 218ms/step\n"
     ]
    },
    {
     "name": "stderr",
     "output_type": "stream",
     "text": [
      "127.0.0.1 - - [23/May/2024 19:05:49] \"POST /predict HTTP/1.1\" 200 -\n"
     ]
    },
    {
     "name": "stdout",
     "output_type": "stream",
     "text": [
      "1/1 [==============================] - 0s 263ms/step\n"
     ]
    },
    {
     "name": "stderr",
     "output_type": "stream",
     "text": [
      "127.0.0.1 - - [23/May/2024 19:05:50] \"POST /predict HTTP/1.1\" 200 -\n"
     ]
    },
    {
     "name": "stdout",
     "output_type": "stream",
     "text": [
      "1/1 [==============================] - 0s 237ms/step\n",
      "1/1 [==============================] - 0s 413ms/step\n"
     ]
    },
    {
     "name": "stderr",
     "output_type": "stream",
     "text": [
      "127.0.0.1 - - [23/May/2024 19:05:52] \"POST /predict HTTP/1.1\" 200 -\n"
     ]
    },
    {
     "name": "stdout",
     "output_type": "stream",
     "text": [
      "1/1 [==============================] - 0s 395ms/step\n"
     ]
    },
    {
     "name": "stderr",
     "output_type": "stream",
     "text": [
      "127.0.0.1 - - [23/May/2024 19:05:52] \"POST /predict HTTP/1.1\" 200 -\n"
     ]
    },
    {
     "name": "stdout",
     "output_type": "stream",
     "text": [
      "1/1 [==============================] - 3s 3s/step\n"
     ]
    },
    {
     "name": "stderr",
     "output_type": "stream",
     "text": [
      "127.0.0.1 - - [23/May/2024 19:05:54] \"POST /segment HTTP/1.1\" 200 -\n"
     ]
    },
    {
     "name": "stdout",
     "output_type": "stream",
     "text": [
      "1/1 [==============================] - 0s 305ms/step\n"
     ]
    },
    {
     "name": "stderr",
     "output_type": "stream",
     "text": [
      "127.0.0.1 - - [23/May/2024 19:08:37] \"POST /predict HTTP/1.1\" 200 -\n"
     ]
    },
    {
     "name": "stdout",
     "output_type": "stream",
     "text": [
      "1/1 [==============================] - 0s 295ms/step\n"
     ]
    },
    {
     "name": "stderr",
     "output_type": "stream",
     "text": [
      "127.0.0.1 - - [23/May/2024 19:08:39] \"POST /predict HTTP/1.1\" 200 -\n"
     ]
    },
    {
     "name": "stdout",
     "output_type": "stream",
     "text": [
      "1/1 [==============================] - 0s 346ms/step\n"
     ]
    },
    {
     "name": "stderr",
     "output_type": "stream",
     "text": [
      "127.0.0.1 - - [23/May/2024 19:08:39] \"POST /predict HTTP/1.1\" 200 -\n"
     ]
    },
    {
     "name": "stdout",
     "output_type": "stream",
     "text": [
      "1/1 [==============================] - 1s 566ms/step\n"
     ]
    },
    {
     "name": "stderr",
     "output_type": "stream",
     "text": [
      "127.0.0.1 - - [23/May/2024 19:08:39] \"POST /predict HTTP/1.1\" 200 -\n"
     ]
    },
    {
     "name": "stdout",
     "output_type": "stream",
     "text": [
      "1/1 [==============================] - 0s 332ms/step\n"
     ]
    },
    {
     "name": "stderr",
     "output_type": "stream",
     "text": [
      "127.0.0.1 - - [23/May/2024 19:08:41] \"POST /predict HTTP/1.1\" 200 -\n"
     ]
    },
    {
     "name": "stdout",
     "output_type": "stream",
     "text": [
      "1/1 [==============================] - 0s 293ms/step\n"
     ]
    },
    {
     "name": "stderr",
     "output_type": "stream",
     "text": [
      "127.0.0.1 - - [23/May/2024 19:08:41] \"POST /predict HTTP/1.1\" 200 -\n"
     ]
    },
    {
     "name": "stdout",
     "output_type": "stream",
     "text": [
      "1/1 [==============================] - 0s 270ms/step\n"
     ]
    },
    {
     "name": "stderr",
     "output_type": "stream",
     "text": [
      "127.0.0.1 - - [23/May/2024 19:08:51] \"POST /predict HTTP/1.1\" 200 -\n"
     ]
    },
    {
     "name": "stdout",
     "output_type": "stream",
     "text": [
      "1/1 [==============================] - 0s 291ms/step\n"
     ]
    },
    {
     "name": "stderr",
     "output_type": "stream",
     "text": [
      "127.0.0.1 - - [23/May/2024 19:08:52] \"POST /predict HTTP/1.1\" 200 -\n"
     ]
    },
    {
     "name": "stdout",
     "output_type": "stream",
     "text": [
      "1/1 [==============================] - 0s 377ms/step\n"
     ]
    },
    {
     "name": "stderr",
     "output_type": "stream",
     "text": [
      "127.0.0.1 - - [23/May/2024 19:08:52] \"POST /predict HTTP/1.1\" 200 -\n"
     ]
    },
    {
     "name": "stdout",
     "output_type": "stream",
     "text": [
      "1/1 [==============================] - 1s 576ms/step\n",
      "1/1 [==============================] - 1s 618ms/step\n",
      "1/1 [==============================] - 1s 921ms/step\n",
      "1/1 [==============================] - 1s 1s/step\n"
     ]
    },
    {
     "name": "stderr",
     "output_type": "stream",
     "text": [
      "127.0.0.1 - - [23/May/2024 19:08:55] \"POST /predict HTTP/1.1\" 200 -\n"
     ]
    },
    {
     "name": "stdout",
     "output_type": "stream",
     "text": [
      "1/1 [==============================] - 1s 1s/step\n",
      "1/1 [==============================] - 3s 3s/step\n"
     ]
    },
    {
     "name": "stderr",
     "output_type": "stream",
     "text": [
      "127.0.0.1 - - [23/May/2024 19:08:57] \"POST /predict HTTP/1.1\" 200 -\n",
      "127.0.0.1 - - [23/May/2024 19:08:57] \"GET / HTTP/1.1\" 200 -\n",
      "127.0.0.1 - - [23/May/2024 19:08:57] \"GET / HTTP/1.1\" 200 -\n",
      "127.0.0.1 - - [23/May/2024 19:08:58] \"GET /favicon.ico HTTP/1.1\" 404 -\n"
     ]
    },
    {
     "name": "stdout",
     "output_type": "stream",
     "text": [
      "1/1 [==============================] - 6s 6s/step\n"
     ]
    },
    {
     "name": "stderr",
     "output_type": "stream",
     "text": [
      "127.0.0.1 - - [23/May/2024 19:08:59] \"POST /segment HTTP/1.1\" 200 -\n"
     ]
    },
    {
     "name": "stdout",
     "output_type": "stream",
     "text": [
      "1/1 [==============================] - 8s 8s/step\n"
     ]
    },
    {
     "name": "stderr",
     "output_type": "stream",
     "text": [
      "127.0.0.1 - - [23/May/2024 19:09:01] \"POST /segment HTTP/1.1\" 200 -\n"
     ]
    },
    {
     "name": "stdout",
     "output_type": "stream",
     "text": [
      "1/1 [==============================] - 6s 6s/step\n",
      "1/1 [==============================] - 8s 8s/step\n"
     ]
    },
    {
     "name": "stderr",
     "output_type": "stream",
     "text": [
      "127.0.0.1 - - [23/May/2024 19:09:03] \"POST /predict HTTP/1.1\" 200 -\n"
     ]
    },
    {
     "name": "stdout",
     "output_type": "stream",
     "text": [
      "1/1 [==============================] - 9s 9s/step\n"
     ]
    },
    {
     "name": "stderr",
     "output_type": "stream",
     "text": [
      "127.0.0.1 - - [23/May/2024 19:09:03] \"POST /segment HTTP/1.1\" 200 -\n"
     ]
    },
    {
     "name": "stdout",
     "output_type": "stream",
     "text": [
      "1/1 [==============================] - 8s 8s/step\n"
     ]
    },
    {
     "name": "stderr",
     "output_type": "stream",
     "text": [
      "127.0.0.1 - - [23/May/2024 19:09:03] \"POST /segment HTTP/1.1\" 200 -\n"
     ]
    },
    {
     "name": "stdout",
     "output_type": "stream",
     "text": [
      "1/1 [==============================] - 3s 3s/step\n"
     ]
    },
    {
     "name": "stderr",
     "output_type": "stream",
     "text": [
      "127.0.0.1 - - [23/May/2024 19:09:05] \"POST /segment HTTP/1.1\" 200 -\n"
     ]
    },
    {
     "name": "stdout",
     "output_type": "stream",
     "text": [
      "1/1 [==============================] - 0s 370ms/step\n"
     ]
    },
    {
     "name": "stderr",
     "output_type": "stream",
     "text": [
      "127.0.0.1 - - [23/May/2024 19:09:10] \"POST /predict HTTP/1.1\" 200 -\n"
     ]
    },
    {
     "name": "stdout",
     "output_type": "stream",
     "text": [
      "1/1 [==============================] - 0s 300ms/step\n"
     ]
    },
    {
     "name": "stderr",
     "output_type": "stream",
     "text": [
      "127.0.0.1 - - [23/May/2024 19:09:13] \"POST /segment HTTP/1.1\" 200 -\n",
      "127.0.0.1 - - [23/May/2024 19:11:55] \"GET / HTTP/1.1\" 200 -\n",
      "127.0.0.1 - - [23/May/2024 19:11:55] \"GET / HTTP/1.1\" 200 -\n",
      "127.0.0.1 - - [23/May/2024 19:11:55] \"GET /favicon.ico HTTP/1.1\" 404 -\n",
      "127.0.0.1 - - [23/May/2024 19:12:06] \"GET / HTTP/1.1\" 200 -\n",
      "127.0.0.1 - - [23/May/2024 19:12:06] \"GET / HTTP/1.1\" 200 -\n"
     ]
    },
    {
     "name": "stdout",
     "output_type": "stream",
     "text": [
      "1/1 [==============================] - 0s 302ms/step\n"
     ]
    },
    {
     "name": "stderr",
     "output_type": "stream",
     "text": [
      "127.0.0.1 - - [23/May/2024 19:12:12] \"POST /predict HTTP/1.1\" 200 -\n"
     ]
    },
    {
     "name": "stdout",
     "output_type": "stream",
     "text": [
      "1/1 [==============================] - 0s 218ms/step\n"
     ]
    },
    {
     "name": "stderr",
     "output_type": "stream",
     "text": [
      "127.0.0.1 - - [23/May/2024 19:12:13] \"POST /segment HTTP/1.1\" 200 -\n",
      "127.0.0.1 - - [23/May/2024 19:14:19] \"GET / HTTP/1.1\" 200 -\n",
      "127.0.0.1 - - [23/May/2024 19:14:19] \"GET / HTTP/1.1\" 200 -\n",
      "127.0.0.1 - - [23/May/2024 19:14:19] \"GET /favicon.ico HTTP/1.1\" 404 -\n"
     ]
    },
    {
     "name": "stdout",
     "output_type": "stream",
     "text": [
      "1/1 [==============================] - 0s 299ms/step\n"
     ]
    },
    {
     "name": "stderr",
     "output_type": "stream",
     "text": [
      "127.0.0.1 - - [23/May/2024 19:14:23] \"POST /predict HTTP/1.1\" 200 -\n"
     ]
    },
    {
     "name": "stdout",
     "output_type": "stream",
     "text": [
      "1/1 [==============================] - 0s 238ms/step\n"
     ]
    },
    {
     "name": "stderr",
     "output_type": "stream",
     "text": [
      "127.0.0.1 - - [23/May/2024 19:14:25] \"POST /segment HTTP/1.1\" 200 -\n"
     ]
    }
   ],
   "source": [
    "from flask import Flask, request, jsonify, render_template\n",
    "from tensorflow.keras.models import load_model\n",
    "import cv2\n",
    "import numpy as np\n",
    "import base64\n",
    "from werkzeug.utils import secure_filename\n",
    "import os\n",
    "from tensorflow.keras.applications.vgg16 import preprocess_input\n",
    "\n",
    "app = Flask(__name__)\n",
    "\n",
    "# Load segmentation model\n",
    "model_seg = load_model(\"seg_model.h5\", custom_objects={\"focal_tversky\": focal_tversky, \"tversky\": tversky, \"tversky_loss\": tversky_loss})\n",
    "model_cls = load_model('modelFineT.h5')\n",
    "labels = ['glioma_tumor', 'no_tumor', 'meningioma_tumor', 'pituitary_tumor']\n",
    "\n",
    "# Function to predict tumor type\n",
    "def predict_tumor_type(image_path):\n",
    "    img = cv2.imread(image_path)\n",
    "    img = cv2.resize(img, (150, 150))\n",
    "    img = np.expand_dims(img, axis=0)\n",
    "    preds = model_cls.predict(img)\n",
    "    return labels[np.argmax(preds)]\n",
    "\n",
    "# Function to perform segmentation\n",
    "def segmentation(image_path):\n",
    "    img = cv2.imread(image_path)\n",
    "    img_resized = cv2.resize(img, (256, 256))\n",
    "    img_standardized = (img_resized - img_resized.mean()) / img_resized.std()\n",
    "    X = np.expand_dims(img_standardized, axis=0)\n",
    "    predict = model_seg.predict(X)\n",
    "\n",
    "    if predict.round().astype(int).sum() == 0:\n",
    "        has_mask = False\n",
    "        mri_with_mask = None\n",
    "    else:\n",
    "        has_mask = True\n",
    "        img_with_mask = np.copy(img_resized)\n",
    "        mask_resized = cv2.resize(predict.squeeze().round().astype(np.uint8), (img_resized.shape[1], img_resized.shape[0]))\n",
    "        img_with_mask[mask_resized == 1] = [255, 0, 0]  # Overlay red color where mask is predicted\n",
    "        _, img_encoded = cv2.imencode('.jpg', img_with_mask)\n",
    "        mri_with_mask = base64.b64encode(img_encoded).decode()\n",
    "\n",
    "    return has_mask, mri_with_mask\n",
    "\n",
    "@app.route('/')\n",
    "def index():\n",
    "    return render_template(\"index.html\")\n",
    "\n",
    "@app.route('/predict', methods=['POST'])\n",
    "def predict():\n",
    "    if 'file' not in request.files:\n",
    "        return jsonify({'error': 'No file part'})\n",
    "\n",
    "    file = request.files['file']\n",
    "    if file.filename == '':\n",
    "        return jsonify({'error': 'No selected file'})\n",
    "\n",
    "    if file:\n",
    "        filename = secure_filename(file.filename)\n",
    "        filepath = os.path.join('uploads', filename)\n",
    "        file.save(filepath)\n",
    "        tumor_type = predict_tumor_type(filepath)\n",
    "        return jsonify({'result': tumor_type})\n",
    "\n",
    "@app.route('/segment', methods=['POST'])\n",
    "def segment():\n",
    "    if 'file' not in request.files:\n",
    "        return jsonify({'error': 'No file part'})\n",
    "\n",
    "    file = request.files['file']\n",
    "    if file.filename == '':\n",
    "        return jsonify({'error': 'No selected file'})\n",
    "\n",
    "    if file:\n",
    "        filename = secure_filename(file.filename)\n",
    "        filepath = os.path.join('uploads', filename)\n",
    "        file.save(filepath)\n",
    "        \n",
    "        # Predict tumor type first\n",
    "        tumor_type = predict_tumor_type(filepath)\n",
    "        if tumor_type == 'no_tumor':\n",
    "            return jsonify({'has_mask': False, 'message': 'No tumor found'})\n",
    "\n",
    "        # Perform segmentation if tumor is present\n",
    "        has_mask, mri_with_mask = segmentation(filepath)\n",
    "        \n",
    "        return jsonify({'has_mask': has_mask, 'mri_with_mask': mri_with_mask})\n",
    "\n",
    "if __name__ == '__main__':\n",
    "    app.run()\n"
   ]
  },
  {
   "cell_type": "code",
   "execution_count": null,
   "id": "d0957747",
   "metadata": {},
   "outputs": [],
   "source": []
  },
  {
   "cell_type": "code",
   "execution_count": null,
   "id": "8a1fafa7",
   "metadata": {},
   "outputs": [],
   "source": []
  }
 ],
 "metadata": {
  "kernelspec": {
   "display_name": "Python 3 (ipykernel)",
   "language": "python",
   "name": "python3"
  },
  "language_info": {
   "codemirror_mode": {
    "name": "ipython",
    "version": 3
   },
   "file_extension": ".py",
   "mimetype": "text/x-python",
   "name": "python",
   "nbconvert_exporter": "python",
   "pygments_lexer": "ipython3",
   "version": "3.9.12"
  }
 },
 "nbformat": 4,
 "nbformat_minor": 5
}
